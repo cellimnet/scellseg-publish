{
 "cells": [
  {
   "cell_type": "code",
   "execution_count": null,
   "metadata": {
    "collapsed": true,
    "pycharm": {
     "is_executing": true
    }
   },
   "outputs": [],
   "source": [
    "import os, gc\n",
    "import numpy as np\n",
    "from scellseg.io import imsave, imread, save_masks_noflows\n",
    "from scellseg.models import sCellSeg\n",
    "\n",
    "\n",
    "finetune_dir = r''  # Input the path of the model file\n",
    "query_img_dir = r'' # Input the path of your query imgs\n",
    "query_img_paths = os.listdir(query_img_dir)  #\n",
    "query_imgs = [imread(os.path.join(query_img_dir, i))  for i in query_img_paths]  # Read your images\n",
    "query_imgs = np.array(query_imgs)\n",
    "\n",
    "# you should check the shape of query_imgs in (n, h, w, c), ndarray\n",
    "# if it is (n, h, w),\n",
    "# use:\n",
    "# query_imgs = [query_imgi[..., np.newaxis] for query_imgi in query_imgs]\n",
    "# query_imgs = np.array(query_imgs)\n",
    "\n",
    "eval_batch_size = 16 # Set batch size\n",
    "diameter = 30.0 # Set Mean diameter of cells in your image\n",
    "channel = [2, 1]  #  Set the channel you want to segment, you can also provide a chan2 like nuclei channel for better"
   ]
  },
  {
   "cell_type": "code",
   "execution_count": null,
   "outputs": [],
   "source": [
    "model_type = 'scellseg'\n",
    "finetune_model = os.path.join(finetune_dir, model_type)\n",
    "model = sCellSeg(gpu=True, model_type=model_type, diam_mean=30.0, task_mode='cellpose', attn_on=True, dense_on=True, style_scale_on=True)\n",
    "masks, _, _ = model.inference(finetune_model=finetune_model, net_avg=False,\n",
    "                                  query_images=query_imgs, channel=channel,\n",
    "                                  diameter=diameter,\n",
    "                                  resample=False, flow_threshold=0.4,\n",
    "                                  cellprob_threshold=0.5,\n",
    "                                  eval_batch_size=eval_batch_size,\n",
    "                                  postproc_mode='cellpose')"
   ],
   "metadata": {
    "collapsed": false
   }
  },
  {
   "cell_type": "code",
   "execution_count": null,
   "outputs": [],
   "source": [
    "save_mask_dir = r''  # Path for output masks\n",
    "if not os.path.isdir(save_mask_dir): os.makedirs(save_mask_dir)\n",
    "query_img_names = [i.split('.')[0] for i in query_img_paths]\n",
    "save_img_paths = [os.path.join(save_mask_dir, query_img_name) for query_img_name in query_img_names]\n",
    "for i, save_img_path in enumerate(save_img_paths):\n",
    "    maski = masks[i]\n",
    "    maski = maski.astype(np.uint16) if maski.max() < 2 ** 16 - 1 else maski.astype(np.uint32)\n",
    "    imsave(save_img_path + '_masks.png', maski)  # 保存masks"
   ],
   "metadata": {
    "collapsed": false
   }
  },
  {
   "cell_type": "code",
   "execution_count": null,
   "outputs": [],
   "source": [
    "save_mask_show_dir = r''  # Path for visualization of output masks, this can help you have a better a look at the segmentation results\n",
    "if not os.path.isdir(save_mask_show_dir): os.makedirs(save_mask_show_dir)\n",
    "save_img_paths_pre = [os.path.join(save_mask_show_dir, query_img_name + '.png') for query_img_name in query_img_names]\n",
    "save_masks_noflows(query_imgs, masks, save_img_paths_pre)"
   ],
   "metadata": {
    "collapsed": false
   }
  }
 ],
 "metadata": {
  "kernelspec": {
   "display_name": "Python 3",
   "language": "python",
   "name": "python3"
  },
  "language_info": {
   "codemirror_mode": {
    "name": "ipython",
    "version": 2
   },
   "file_extension": ".py",
   "mimetype": "text/x-python",
   "name": "python",
   "nbconvert_exporter": "python",
   "pygments_lexer": "ipython2",
   "version": "2.7.6"
  }
 },
 "nbformat": 4,
 "nbformat_minor": 0
}
