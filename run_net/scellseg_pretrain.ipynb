{
 "cells": [
  {
   "cell_type": "code",
   "execution_count": null,
   "metadata": {
    "collapsed": true
   },
   "outputs": [],
   "source": [
    "from scellseg import models, io\n",
    "from scellseg.utils import make_folder\n",
    "from scellseg.utils import process_different_model\n",
    "import os\n",
    "\n",
    "use_GPU = True\n",
    "\n",
    "train_dir = r''  # Input the path of the train folder\n",
    "test_dir = r''  # Input the path of the validation folder\n",
    "project_path = os.path.abspath(os.path.dirname(os.path.dirname(os.path.abspath(__file__))) + os.path.sep + \".\")\n",
    "output_path = os.path.join(project_path, 'output')\n",
    "\n",
    "model_name = 'scellseg'  # model_name： scellseg, cellpose, hover, unet3, unet2\n",
    "task_mode, _, attn_on, dense_on, style_scale_on = process_different_model(model_name)\n",
    "\n",
    "images, labels, files, test_images, test_labels, test_files = \\\n",
    "    io.load_train_test_data(train_dir, test_dir=test_dir, image_filter='_img', mask_filter='_masks', task_mode=task_mode)\n",
    "\n",
    "model = models.sCellSeg(diam_mean=30, gpu=use_GPU, pretrained_model=False, nclasses=3,\n",
    "                        attn_on=attn_on, dense_on=dense_on, style_on=True, style_scale_on=style_scale_on,\n",
    "                        task_mode=task_mode)\n"
   ]
  },
  {
   "cell_type": "code",
   "execution_count": null,
   "outputs": [],
   "source": [
    "cpmodel_path = model.pretrain(train_data=images, train_labels=labels, train_files=files,\n",
    "                           test_data=test_images, test_labels=test_labels, test_files=test_files,\n",
    "                           channels=[2, 1], save_path=output_path, n_epochs=100, learning_rate=0.2)\n",
    "\n",
    "print('>>>> model trained and saved to %s'%cpmodel_path)"
   ],
   "metadata": {
    "collapsed": false
   }
  }
 ],
 "metadata": {
  "kernelspec": {
   "display_name": "Python 3",
   "language": "python",
   "name": "python3"
  },
  "language_info": {
   "codemirror_mode": {
    "name": "ipython",
    "version": 2
   },
   "file_extension": ".py",
   "mimetype": "text/x-python",
   "name": "python",
   "nbconvert_exporter": "python",
   "pygments_lexer": "ipython2",
   "version": "2.7.6"
  }
 },
 "nbformat": 4,
 "nbformat_minor": 0
}
