{
 "cells": [
  {
   "cell_type": "code",
   "execution_count": null,
   "metadata": {
    "collapsed": true
   },
   "outputs": [],
   "source": [
    "import os, time, json\n",
    "import numpy as np\n",
    "\n",
    "from scellseg import models, io, metrics\n",
    "from scellseg.contrast_learning.dataset import DatasetPairEval\n",
    "from scellseg.dataset import DatasetShot\n",
    "from torch.utils.data import DataLoader\n",
    "from scellseg.utils import set_manual_seed, make_folder, process_different_model\n",
    "import warnings\n",
    "warnings.filterwarnings(\"ignore\")\n",
    "project_path = os.path.abspath(os.path.dirname(os.path.dirname(os.path.abspath(__file__)))+os.path.sep+\".\")\n",
    "output_path = os.path.join(project_path, 'output')\n",
    "make_folder(output_path)\n",
    "\n",
    "\n",
    "train_epoch = 100  #  set the epoch\n",
    "dataset_dir_root = r''   # Input the path of parent folder of the dataset folder\n",
    "dataset_name = ''  # Input the name of the dataset folder\n",
    "\n",
    "use_GPU = True\n",
    "num_batch = 8\n",
    "channel = [2, 1]\n",
    "model_name = 'scellseg'  # scellseg\n",
    "contrast_on = 1\n",
    "pretrained_model = os.path.join(project_path, 'assets', 'pretrained_models', model_name)\n",
    "task_mode, postproc_mode, attn_on, dense_on, style_scale_on = process_different_model(model_name)  # task_mode mean different instance representation\n",
    "\n",
    "dataset_dir = os.path.join(dataset_dir_root, dataset_name)\n",
    "\n",
    "save_name = model_name+'_'+dataset_name\n",
    "print(save_name)\n",
    "if contrast_on:\n",
    "    save_name += '-cft'\n",
    "\n",
    "shotset = DatasetShot(eval_dir=dataset_dir, class_name=None, image_filter='_img', mask_filter='_masks', channels=channel,\n",
    "                      train_num= train_epoch * num_batch, task_mode=task_mode, rescale=True)\n",
    "shot_gen = DataLoader(dataset=shotset, batch_size=num_batch, num_workers=0, pin_memory=True)\n",
    "\n",
    "diameter = shotset.md\n",
    "print('>>>> mean diameter of this style,', round(diameter, 3))\n",
    "\n",
    "lr = {'downsample': 0.001, 'upsample': 0.001, 'tasker': 0.001, 'alpha': 0.1}\n",
    "lr_schedule_gamma = {'downsample': 0.5, 'upsample': 0.5, 'tasker': 0.5, 'alpha': 0.5}\n",
    "step_size = int(train_epoch * 0.25)\n",
    "model = models.sCellSeg(pretrained_model=pretrained_model, gpu=use_GPU, update_step=1, nclasses=3,\n",
    "                        task_mode=task_mode, net_avg=False,\n",
    "                        attn_on=attn_on, dense_on=dense_on, style_scale_on=style_scale_on,\n",
    "                        last_conv_on=True, model=None)\n",
    "\n",
    "model_dict = model.net.state_dict()\n",
    "model.net.pretrained_model = pretrained_model\n",
    "model.net.save_name = save_name\n",
    "\n",
    "model.net.contrast_on = contrast_on\n",
    "if contrast_on:\n",
    "    model.net.pair_gen = DatasetPairEval(positive_dir=dataset_dir, use_negative_masks=False, gpu=use_GPU, rescale=True)"
   ]
  },
  {
   "cell_type": "code",
   "execution_count": null,
   "outputs": [],
   "source": [
    "model.finetune(shot_gen=shot_gen, lr=lr, lr_schedule_gamma=lr_schedule_gamma, step_size=step_size, savepath=dataset_dir)"
   ],
   "metadata": {
    "collapsed": false
   }
  }
 ],
 "metadata": {
  "kernelspec": {
   "display_name": "Python 3",
   "language": "python",
   "name": "python3"
  },
  "language_info": {
   "codemirror_mode": {
    "name": "ipython",
    "version": 2
   },
   "file_extension": ".py",
   "mimetype": "text/x-python",
   "name": "python",
   "nbconvert_exporter": "python",
   "pygments_lexer": "ipython2",
   "version": "2.7.6"
  }
 },
 "nbformat": 4,
 "nbformat_minor": 0
}
